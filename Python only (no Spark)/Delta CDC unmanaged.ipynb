{
  "cells": [
    {
      "cell_type": "code",
      "source": [
        "-- This is a data table to be the target of fetching changes\r\n",
        "\r\n",
        "DROP TABLE IF EXISTS students; -- droped to clean any previous delta changes\r\n",
        "\r\n",
        "-- Creation will be change # 0\r\n",
        "CREATE TABLE students(id INT, name STRING, grade DOUBLE, year INT, age INT)\r\n",
        "USING DELTA\r\n",
        "TBLPROPERTIES (delta.enableChangeDataFeed = true)\r\n",
        "LOCATION 'abfss://main-container@lusoadls2sa.dfs.core.windows.net/datasets/DELTA/students-CDF';\r\n",
        "\r\n",
        "-- Insert will be change # 1\r\n",
        "INSERT INTO students VALUES(4, \"Ted\",     4.7, 2020, 20),\r\n",
        "                           (5, \"Tiffany\", 5.5, 2021, 21),\r\n",
        "                           (6, \"Vini\",    6.3, 2022, 22);\r\n",
        "\r\n",
        "-- Update will be change # 2\r\n",
        "UPDATE students SET grade = grade + 1, year = year + 1 WHERE name LIKE \"T%\";\r\n",
        "\r\n",
        "SELECT * FROM students;"
      ],
      "outputs": [
        {
          "output_type": "display_data",
          "data": {
            "application/vnd.livy.statement-meta+json": {
              "spark_pool": null,
              "session_id": "2",
              "statement_id": -1,
              "state": "finished",
              "livy_statement_state": "available",
              "queued_time": "2023-07-07T17:05:46.7446784Z",
              "session_start_time": null,
              "execution_start_time": "2023-07-07T17:06:19.8112519Z",
              "execution_finish_time": "2023-07-07T17:06:19.8115715Z",
              "spark_jobs": null,
              "parent_msg_id": "bc81b70e-12c7-49bd-83ed-e3bfad57fa40"
            },
            "text/plain": "StatementMeta(, 2, -1, Finished, Available)"
          },
          "metadata": {}
        },
        {
          "output_type": "execute_result",
          "execution_count": 3,
          "data": {
            "application/vnd.synapse.sparksql-result+json": {
              "schema": {
                "type": "struct",
                "fields": []
              },
              "data": []
            },
            "text/plain": "<Spark SQL result set with 0 rows and 0 fields>"
          },
          "metadata": {}
        },
        {
          "output_type": "execute_result",
          "execution_count": 3,
          "data": {
            "application/vnd.synapse.sparksql-result+json": {
              "schema": {
                "type": "struct",
                "fields": []
              },
              "data": []
            },
            "text/plain": "<Spark SQL result set with 0 rows and 0 fields>"
          },
          "metadata": {}
        },
        {
          "output_type": "execute_result",
          "execution_count": 3,
          "data": {
            "application/vnd.synapse.sparksql-result+json": {
              "schema": {
                "type": "struct",
                "fields": []
              },
              "data": []
            },
            "text/plain": "<Spark SQL result set with 0 rows and 0 fields>"
          },
          "metadata": {}
        },
        {
          "output_type": "execute_result",
          "execution_count": 3,
          "data": {
            "application/vnd.synapse.sparksql-result+json": {
              "schema": {
                "type": "struct",
                "fields": [
                  {
                    "name": "num_affected_rows",
                    "type": "long",
                    "nullable": true,
                    "metadata": {}
                  }
                ]
              },
              "data": [
                [
                  "2"
                ]
              ]
            },
            "text/plain": "<Spark SQL result set with 1 rows and 1 fields>"
          },
          "metadata": {}
        },
        {
          "output_type": "execute_result",
          "execution_count": 3,
          "data": {
            "application/vnd.synapse.sparksql-result+json": {
              "schema": {
                "type": "struct",
                "fields": [
                  {
                    "name": "id",
                    "type": "integer",
                    "nullable": true,
                    "metadata": {}
                  },
                  {
                    "name": "name",
                    "type": "string",
                    "nullable": true,
                    "metadata": {}
                  },
                  {
                    "name": "grade",
                    "type": "double",
                    "nullable": true,
                    "metadata": {}
                  },
                  {
                    "name": "year",
                    "type": "integer",
                    "nullable": true,
                    "metadata": {}
                  },
                  {
                    "name": "age",
                    "type": "integer",
                    "nullable": true,
                    "metadata": {}
                  }
                ]
              },
              "data": [
                [
                  5,
                  "Tiffany",
                  6.5,
                  2022,
                  21
                ],
                [
                  4,
                  "Ted",
                  5.7,
                  2021,
                  20
                ],
                [
                  6,
                  "Vini",
                  6.3,
                  2022,
                  22
                ]
              ]
            },
            "text/plain": "<Spark SQL result set with 3 rows and 5 fields>"
          },
          "metadata": {}
        }
      ],
      "execution_count": 3,
      "metadata": {
        "jupyter": {
          "source_hidden": false,
          "outputs_hidden": false
        },
        "nteract": {
          "transient": {
            "deleting": false
          }
        },
        "collapsed": false
      }
    },
    {
      "cell_type": "code",
      "source": [
        "DESCRIBE EXTENDED students -- Property \"Provider\" shows it's a delta table"
      ],
      "outputs": [
        {
          "output_type": "display_data",
          "data": {
            "application/vnd.livy.statement-meta+json": {
              "spark_pool": "smallpool3dot3",
              "session_id": "2",
              "statement_id": 10,
              "state": "finished",
              "livy_statement_state": "available",
              "queued_time": "2023-07-07T17:08:15.0231768Z",
              "session_start_time": null,
              "execution_start_time": "2023-07-07T17:08:15.2112561Z",
              "execution_finish_time": "2023-07-07T17:09:35.5932323Z",
              "spark_jobs": null,
              "parent_msg_id": "05467ba0-4490-424a-aee4-bbb7c68ee582"
            },
            "text/plain": "StatementMeta(smallpool3dot3, 2, 10, Finished, Available)"
          },
          "metadata": {}
        },
        {
          "output_type": "execute_result",
          "execution_count": 4,
          "data": {
            "application/vnd.synapse.sparksql-result+json": {
              "schema": {
                "type": "struct",
                "fields": [
                  {
                    "name": "col_name",
                    "type": "string",
                    "nullable": false,
                    "metadata": {
                      "comment": "name of the column"
                    }
                  },
                  {
                    "name": "data_type",
                    "type": "string",
                    "nullable": false,
                    "metadata": {
                      "comment": "data type of the column"
                    }
                  },
                  {
                    "name": "comment",
                    "type": "string",
                    "nullable": true,
                    "metadata": {
                      "comment": "comment of the column"
                    }
                  }
                ]
              },
              "data": [
                [
                  "id",
                  "int",
                  ""
                ],
                [
                  "name",
                  "string",
                  ""
                ],
                [
                  "grade",
                  "double",
                  ""
                ],
                [
                  "year",
                  "int",
                  ""
                ],
                [
                  "age",
                  "int",
                  ""
                ],
                [
                  "",
                  "",
                  ""
                ],
                [
                  "# Partitioning",
                  "",
                  ""
                ],
                [
                  "Not partitioned",
                  "",
                  ""
                ],
                [
                  "",
                  "",
                  ""
                ],
                [
                  "# Detailed Table Information",
                  "",
                  ""
                ],
                [
                  "Name",
                  "default.students",
                  ""
                ],
                [
                  "Location",
                  "abfss://main-container@lusoadls2sa.dfs.core.windows.net/datasets/DELTA/students-CDF",
                  ""
                ],
                [
                  "Provider",
                  "delta",
                  ""
                ],
                [
                  "Owner",
                  "trusted-service-user",
                  ""
                ],
                [
                  "External",
                  "true",
                  ""
                ],
                [
                  "Table Properties",
                  "[delta.enableChangeDataFeed=true,delta.minReaderVersion=1,delta.minWriterVersion=4]",
                  ""
                ]
              ]
            },
            "text/plain": "<Spark SQL result set with 16 rows and 3 fields>"
          },
          "metadata": {}
        }
      ],
      "execution_count": 4,
      "metadata": {
        "jupyter": {
          "source_hidden": false,
          "outputs_hidden": false
        },
        "nteract": {
          "transient": {
            "deleting": false
          }
        },
        "microsoft": {},
        "collapsed": false
      }
    },
    {
      "cell_type": "code",
      "source": [
        "DESCRIBE HISTORY default.students -- List delta changes"
      ],
      "outputs": [
        {
          "output_type": "display_data",
          "data": {
            "application/vnd.livy.statement-meta+json": {
              "spark_pool": "smallpool3dot3",
              "session_id": "2",
              "statement_id": 11,
              "state": "finished",
              "livy_statement_state": "available",
              "queued_time": "2023-07-07T17:10:24.9184Z",
              "session_start_time": null,
              "execution_start_time": "2023-07-07T17:10:25.10783Z",
              "execution_finish_time": "2023-07-07T17:10:28.0679719Z",
              "spark_jobs": null,
              "parent_msg_id": "cbeed850-0511-4470-b480-130cd652e938"
            },
            "text/plain": "StatementMeta(smallpool3dot3, 2, 11, Finished, Available)"
          },
          "metadata": {}
        },
        {
          "output_type": "execute_result",
          "execution_count": 5,
          "data": {
            "application/vnd.synapse.sparksql-result+json": {
              "schema": {
                "type": "struct",
                "fields": [
                  {
                    "name": "version",
                    "type": "long",
                    "nullable": true,
                    "metadata": {}
                  },
                  {
                    "name": "timestamp",
                    "type": "timestamp",
                    "nullable": true,
                    "metadata": {}
                  },
                  {
                    "name": "userId",
                    "type": "string",
                    "nullable": true,
                    "metadata": {}
                  },
                  {
                    "name": "userName",
                    "type": "string",
                    "nullable": true,
                    "metadata": {}
                  },
                  {
                    "name": "operation",
                    "type": "string",
                    "nullable": true,
                    "metadata": {}
                  },
                  {
                    "name": "operationParameters",
                    "type": {
                      "type": "map",
                      "keyType": "string",
                      "valueType": "string",
                      "valueContainsNull": true
                    },
                    "nullable": true,
                    "metadata": {}
                  },
                  {
                    "name": "job",
                    "type": {
                      "type": "struct",
                      "fields": [
                        {
                          "name": "jobId",
                          "type": "string",
                          "nullable": true,
                          "metadata": {}
                        },
                        {
                          "name": "jobName",
                          "type": "string",
                          "nullable": true,
                          "metadata": {}
                        },
                        {
                          "name": "runId",
                          "type": "string",
                          "nullable": true,
                          "metadata": {}
                        },
                        {
                          "name": "jobOwnerId",
                          "type": "string",
                          "nullable": true,
                          "metadata": {}
                        },
                        {
                          "name": "triggerType",
                          "type": "string",
                          "nullable": true,
                          "metadata": {}
                        }
                      ]
                    },
                    "nullable": true,
                    "metadata": {}
                  },
                  {
                    "name": "notebook",
                    "type": {
                      "type": "struct",
                      "fields": [
                        {
                          "name": "notebookId",
                          "type": "string",
                          "nullable": true,
                          "metadata": {}
                        }
                      ]
                    },
                    "nullable": true,
                    "metadata": {}
                  },
                  {
                    "name": "clusterId",
                    "type": "string",
                    "nullable": true,
                    "metadata": {}
                  },
                  {
                    "name": "readVersion",
                    "type": "long",
                    "nullable": true,
                    "metadata": {}
                  },
                  {
                    "name": "isolationLevel",
                    "type": "string",
                    "nullable": true,
                    "metadata": {}
                  },
                  {
                    "name": "isBlindAppend",
                    "type": "boolean",
                    "nullable": true,
                    "metadata": {}
                  },
                  {
                    "name": "operationMetrics",
                    "type": {
                      "type": "map",
                      "keyType": "string",
                      "valueType": "string",
                      "valueContainsNull": true
                    },
                    "nullable": true,
                    "metadata": {}
                  },
                  {
                    "name": "userMetadata",
                    "type": "string",
                    "nullable": true,
                    "metadata": {}
                  },
                  {
                    "name": "engineInfo",
                    "type": "string",
                    "nullable": true,
                    "metadata": {}
                  }
                ]
              },
              "data": [
                [
                  "2",
                  "2023-07-07T17:06:12Z",
                  null,
                  null,
                  "UPDATE",
                  {
                    "predicate": "StartsWith(name#992, T)"
                  },
                  null,
                  null,
                  null,
                  "1",
                  "Serializable",
                  false,
                  {
                    "numRemovedFiles": "2",
                    "numCopiedRows": "0",
                    "numAddedChangeFiles": "1",
                    "executionTimeMs": "5889",
                    "scanTimeMs": "3787",
                    "numAddedFiles": "1",
                    "numUpdatedRows": "2",
                    "rewriteTimeMs": "2099"
                  },
                  null,
                  "Apache-Spark/3.3.1.5.2-92314920 Delta-Lake/2.2.0.4"
                ],
                [
                  "1",
                  "2023-07-07T17:06:02Z",
                  null,
                  null,
                  "WRITE",
                  {
                    "mode": "Append",
                    "partitionBy": "[]"
                  },
                  null,
                  null,
                  null,
                  "0",
                  "Serializable",
                  true,
                  {
                    "numFiles": "3",
                    "numOutputRows": "3",
                    "numOutputBytes": "4170"
                  },
                  null,
                  "Apache-Spark/3.3.1.5.2-92314920 Delta-Lake/2.2.0.4"
                ],
                [
                  "0",
                  "2023-07-07T17:05:49Z",
                  null,
                  null,
                  "CREATE TABLE",
                  {
                    "isManaged": "false",
                    "description": null,
                    "partitionBy": "[]",
                    "properties": "{\"delta.enableChangeDataFeed\":\"true\"}"
                  },
                  null,
                  null,
                  null,
                  null,
                  "Serializable",
                  true,
                  {},
                  null,
                  "Apache-Spark/3.3.1.5.2-92314920 Delta-Lake/2.2.0.4"
                ]
              ]
            },
            "text/plain": "<Spark SQL result set with 3 rows and 15 fields>"
          },
          "metadata": {}
        }
      ],
      "execution_count": 5,
      "metadata": {
        "jupyter": {
          "source_hidden": false,
          "outputs_hidden": false
        },
        "nteract": {
          "transient": {
            "deleting": false
          }
        },
        "collapsed": false
      }
    }
  ],
  "metadata": {
    "language_info": {
      "name": "sql"
    },
    "kernelspec": {
      "name": "synapse_pyspark",
      "language": "Python",
      "display_name": "Synapse PySpark"
    },
    "kernel_info": {
      "name": "synapse_pyspark"
    },
    "save_output": true,
    "synapse_widget": {
      "version": "0.1",
      "state": {}
    }
  },
  "nbformat": 4,
  "nbformat_minor": 2
}