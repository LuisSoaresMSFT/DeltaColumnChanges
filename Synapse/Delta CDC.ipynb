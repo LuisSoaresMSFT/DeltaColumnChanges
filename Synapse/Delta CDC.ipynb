{
  "cells": [
    {
      "cell_type": "markdown",
      "source": [
        "The goal of this notebook is to present to the user the changes that occured in a delta table.\n",
        "It takes advantange of the delta versioning and dynamically generates the base SQL for the results.\n",
        "For this to work, an \"information_schema\" table needs to be filled with the metadata of each table to process. This assumes there's no information schema to get this information from i.e. no Unity Catalog."
      ],
      "metadata": {}
    },
    {
      "cell_type": "code",
      "source": [
        "%%pyspark\n",
        "debug = True"
      ],
      "outputs": [
        {
          "output_type": "display_data",
          "data": {
            "application/vnd.livy.statement-meta+json": {
              "spark_pool": "smallpool3dot3",
              "session_id": "1",
              "statement_id": 2,
              "state": "finished",
              "livy_statement_state": "available",
              "queued_time": "2023-07-06T14:54:08.892373Z",
              "session_start_time": "2023-07-06T14:54:08.9824649Z",
              "execution_start_time": "2023-07-06T14:57:37.9708957Z",
              "execution_finish_time": "2023-07-06T14:57:38.178181Z",
              "spark_jobs": null,
              "parent_msg_id": "6c402af7-7be2-426c-9e48-568c489c2346"
            },
            "text/plain": "StatementMeta(smallpool3dot3, 1, 2, Finished, Available)"
          },
          "metadata": {}
        }
      ],
      "execution_count": 49,
      "metadata": {
        "microsoft": {
          "language": "python"
        }
      }
    },
    {
      "cell_type": "markdown",
      "source": [
        "Some information was taken from: https://learn.microsoft.com/en-us/azure/databricks/delta/delta-change-data-feed"
      ],
      "metadata": {}
    },
    {
      "cell_type": "code",
      "source": [
        "-- Create the \"information_schema\" table\n",
        "-- PK columns MUST be 1st in the list\n",
        "-- \n",
        "DROP TABLE IF EXISTS information_schema;\n",
        "\n",
        "CREATE TABLE information_schema(table_name STRING, column_name STRING, column_pos INT, is_key BOOLEAN, is_ignore BOOLEAN);\n",
        "\n",
        "INSERT INTO information_schema VALUES('students', 'id',    1, true,  false),\n",
        "                                     ('students', 'name',  2, false, true),\n",
        "                                     ('students', 'grade', 3, false, false),\n",
        "                                     ('students', 'year',  4, false, false),\n",
        "                                     ('students', 'age',   5, false, false);\n"
      ],
      "outputs": [
        {
          "output_type": "display_data",
          "data": {
            "application/vnd.livy.statement-meta+json": {
              "spark_pool": null,
              "session_id": "1",
              "statement_id": -1,
              "state": "finished",
              "livy_statement_state": "available",
              "queued_time": "2023-07-06T14:57:43.8942632Z",
              "session_start_time": null,
              "execution_start_time": "2023-07-06T14:58:35.4288676Z",
              "execution_finish_time": "2023-07-06T14:58:35.4290959Z",
              "spark_jobs": null,
              "parent_msg_id": "936b0881-ac26-47c1-b91e-e8bacae87db7"
            },
            "text/plain": "StatementMeta(, 1, -1, Finished, Available)"
          },
          "metadata": {}
        },
        {
          "output_type": "execute_result",
          "execution_count": 50,
          "data": {
            "application/vnd.synapse.sparksql-result+json": {
              "schema": {
                "type": "struct",
                "fields": []
              },
              "data": []
            },
            "text/plain": "<Spark SQL result set with 0 rows and 0 fields>"
          },
          "metadata": {}
        },
        {
          "output_type": "execute_result",
          "execution_count": 50,
          "data": {
            "application/vnd.synapse.sparksql-result+json": {
              "schema": {
                "type": "struct",
                "fields": []
              },
              "data": []
            },
            "text/plain": "<Spark SQL result set with 0 rows and 0 fields>"
          },
          "metadata": {}
        },
        {
          "output_type": "execute_result",
          "execution_count": 50,
          "data": {
            "application/vnd.synapse.sparksql-result+json": {
              "schema": {
                "type": "struct",
                "fields": []
              },
              "data": []
            },
            "text/plain": "<Spark SQL result set with 0 rows and 0 fields>"
          },
          "metadata": {}
        }
      ],
      "execution_count": 50,
      "metadata": {
        "collapsed": false
      }
    },
    {
      "cell_type": "code",
      "source": [
        "-- This is a data table to be the target of fetching changes\n",
        "\n",
        "DROP TABLE IF EXISTS students; -- droped to clean any previous delta changes\n",
        "\n",
        "-- Creation will be change # 0\n",
        "CREATE TABLE students(id INT, name STRING, grade DOUBLE, year INT, age INT)\n",
        "USING DELTA\n",
        "TBLPROPERTIES (delta.enableChangeDataFeed = true);\n",
        "\n",
        "-- Insert will be change # 1\n",
        "INSERT INTO students VALUES(4, \"Ted\",     4.7, 2020, 20),\n",
        "                           (5, \"Tiffany\", 5.5, 2021, 21),\n",
        "                           (6, \"Vini\",    6.3, 2022, 22);\n",
        "\n",
        "-- Update will be change # 2\n",
        "UPDATE students SET grade = grade + 1, year = year + 1 WHERE name LIKE \"T%\";\n",
        "\n",
        "SELECT * FROM students;"
      ],
      "outputs": [
        {
          "output_type": "display_data",
          "data": {
            "application/vnd.livy.statement-meta+json": {
              "spark_pool": null,
              "session_id": "1",
              "statement_id": -1,
              "state": "finished",
              "livy_statement_state": "available",
              "queued_time": "2023-07-06T14:58:42.4187908Z",
              "session_start_time": null,
              "execution_start_time": "2023-07-06T14:59:32.4285476Z",
              "execution_finish_time": "2023-07-06T14:59:32.4287821Z",
              "spark_jobs": null,
              "parent_msg_id": "471b969b-e8b6-46b5-8b0d-3d0ca34de479"
            },
            "text/plain": "StatementMeta(, 1, -1, Finished, Available)"
          },
          "metadata": {}
        },
        {
          "output_type": "execute_result",
          "execution_count": 51,
          "data": {
            "application/vnd.synapse.sparksql-result+json": {
              "schema": {
                "type": "struct",
                "fields": []
              },
              "data": []
            },
            "text/plain": "<Spark SQL result set with 0 rows and 0 fields>"
          },
          "metadata": {}
        },
        {
          "output_type": "execute_result",
          "execution_count": 51,
          "data": {
            "application/vnd.synapse.sparksql-result+json": {
              "schema": {
                "type": "struct",
                "fields": []
              },
              "data": []
            },
            "text/plain": "<Spark SQL result set with 0 rows and 0 fields>"
          },
          "metadata": {}
        },
        {
          "output_type": "execute_result",
          "execution_count": 51,
          "data": {
            "application/vnd.synapse.sparksql-result+json": {
              "schema": {
                "type": "struct",
                "fields": []
              },
              "data": []
            },
            "text/plain": "<Spark SQL result set with 0 rows and 0 fields>"
          },
          "metadata": {}
        },
        {
          "output_type": "execute_result",
          "execution_count": 51,
          "data": {
            "application/vnd.synapse.sparksql-result+json": {
              "schema": {
                "type": "struct",
                "fields": [
                  {
                    "name": "num_affected_rows",
                    "type": "long",
                    "nullable": true,
                    "metadata": {}
                  }
                ]
              },
              "data": [
                [
                  "2"
                ]
              ]
            },
            "text/plain": "<Spark SQL result set with 1 rows and 1 fields>"
          },
          "metadata": {}
        },
        {
          "output_type": "execute_result",
          "execution_count": 51,
          "data": {
            "application/vnd.synapse.sparksql-result+json": {
              "schema": {
                "type": "struct",
                "fields": [
                  {
                    "name": "id",
                    "type": "integer",
                    "nullable": true,
                    "metadata": {}
                  },
                  {
                    "name": "name",
                    "type": "string",
                    "nullable": true,
                    "metadata": {}
                  },
                  {
                    "name": "grade",
                    "type": "double",
                    "nullable": true,
                    "metadata": {}
                  },
                  {
                    "name": "year",
                    "type": "integer",
                    "nullable": true,
                    "metadata": {}
                  },
                  {
                    "name": "age",
                    "type": "integer",
                    "nullable": true,
                    "metadata": {}
                  }
                ]
              },
              "data": [
                [
                  5,
                  "Tiffany",
                  6.5,
                  2022,
                  21
                ],
                [
                  4,
                  "Ted",
                  5.7,
                  2021,
                  20
                ],
                [
                  6,
                  "Vini",
                  6.3,
                  2022,
                  22
                ]
              ]
            },
            "text/plain": "<Spark SQL result set with 3 rows and 5 fields>"
          },
          "metadata": {}
        }
      ],
      "execution_count": 51,
      "metadata": {
        "collapsed": false
      }
    },
    {
      "cell_type": "code",
      "source": [
        "DESCRIBE EXTENDED students -- Property \"Provider\" shows it's a delta table"
      ],
      "outputs": [
        {
          "output_type": "display_data",
          "data": {
            "application/vnd.livy.statement-meta+json": {
              "spark_pool": "smallpool3dot3",
              "session_id": "1",
              "statement_id": 11,
              "state": "finished",
              "livy_statement_state": "available",
              "queued_time": "2023-07-06T14:59:22.8893303Z",
              "session_start_time": null,
              "execution_start_time": "2023-07-06T14:59:32.6213373Z",
              "execution_finish_time": "2023-07-06T14:59:33.7810927Z",
              "spark_jobs": null,
              "parent_msg_id": "30311110-713d-40ef-b50e-eb31f97caf72"
            },
            "text/plain": "StatementMeta(smallpool3dot3, 1, 11, Finished, Available)"
          },
          "metadata": {}
        },
        {
          "output_type": "execute_result",
          "execution_count": 52,
          "data": {
            "application/vnd.synapse.sparksql-result+json": {
              "schema": {
                "type": "struct",
                "fields": [
                  {
                    "name": "col_name",
                    "type": "string",
                    "nullable": false,
                    "metadata": {
                      "comment": "name of the column"
                    }
                  },
                  {
                    "name": "data_type",
                    "type": "string",
                    "nullable": false,
                    "metadata": {
                      "comment": "data type of the column"
                    }
                  },
                  {
                    "name": "comment",
                    "type": "string",
                    "nullable": true,
                    "metadata": {
                      "comment": "comment of the column"
                    }
                  }
                ]
              },
              "data": [
                [
                  "id",
                  "int",
                  ""
                ],
                [
                  "name",
                  "string",
                  ""
                ],
                [
                  "grade",
                  "double",
                  ""
                ],
                [
                  "year",
                  "int",
                  ""
                ],
                [
                  "age",
                  "int",
                  ""
                ],
                [
                  "",
                  "",
                  ""
                ],
                [
                  "# Partitioning",
                  "",
                  ""
                ],
                [
                  "Not partitioned",
                  "",
                  ""
                ],
                [
                  "",
                  "",
                  ""
                ],
                [
                  "# Detailed Table Information",
                  "",
                  ""
                ],
                [
                  "Name",
                  "default.students",
                  ""
                ],
                [
                  "Location",
                  "abfss://main-container@lusoadls2sa.dfs.core.windows.net/synapse/workspaces/luso-synapse-ws/warehouse/students",
                  ""
                ],
                [
                  "Provider",
                  "delta",
                  ""
                ],
                [
                  "Owner",
                  "trusted-service-user",
                  ""
                ],
                [
                  "Table Properties",
                  "[delta.enableChangeDataFeed=true,delta.minReaderVersion=1,delta.minWriterVersion=4]",
                  ""
                ]
              ]
            },
            "text/plain": "<Spark SQL result set with 15 rows and 3 fields>"
          },
          "metadata": {}
        }
      ],
      "execution_count": 52,
      "metadata": {
        "collapsed": false
      }
    },
    {
      "cell_type": "code",
      "source": [
        "DESCRIBE HISTORY default.students -- List delta changes"
      ],
      "outputs": [
        {
          "output_type": "display_data",
          "data": {
            "application/vnd.livy.statement-meta+json": {
              "spark_pool": "smallpool3dot3",
              "session_id": "1",
              "statement_id": 12,
              "state": "finished",
              "livy_statement_state": "available",
              "queued_time": "2023-07-06T14:59:58.4571728Z",
              "session_start_time": null,
              "execution_start_time": "2023-07-06T14:59:58.763913Z",
              "execution_finish_time": "2023-07-06T15:00:02.8564966Z",
              "spark_jobs": null,
              "parent_msg_id": "043f9de3-ec7a-45b9-b5b9-d93fb28a75df"
            },
            "text/plain": "StatementMeta(smallpool3dot3, 1, 12, Finished, Available)"
          },
          "metadata": {}
        },
        {
          "output_type": "execute_result",
          "execution_count": 53,
          "data": {
            "application/vnd.synapse.sparksql-result+json": {
              "schema": {
                "type": "struct",
                "fields": [
                  {
                    "name": "version",
                    "type": "long",
                    "nullable": true,
                    "metadata": {}
                  },
                  {
                    "name": "timestamp",
                    "type": "timestamp",
                    "nullable": true,
                    "metadata": {}
                  },
                  {
                    "name": "userId",
                    "type": "string",
                    "nullable": true,
                    "metadata": {}
                  },
                  {
                    "name": "userName",
                    "type": "string",
                    "nullable": true,
                    "metadata": {}
                  },
                  {
                    "name": "operation",
                    "type": "string",
                    "nullable": true,
                    "metadata": {}
                  },
                  {
                    "name": "operationParameters",
                    "type": {
                      "type": "map",
                      "keyType": "string",
                      "valueType": "string",
                      "valueContainsNull": true
                    },
                    "nullable": true,
                    "metadata": {}
                  },
                  {
                    "name": "job",
                    "type": {
                      "type": "struct",
                      "fields": [
                        {
                          "name": "jobId",
                          "type": "string",
                          "nullable": true,
                          "metadata": {}
                        },
                        {
                          "name": "jobName",
                          "type": "string",
                          "nullable": true,
                          "metadata": {}
                        },
                        {
                          "name": "runId",
                          "type": "string",
                          "nullable": true,
                          "metadata": {}
                        },
                        {
                          "name": "jobOwnerId",
                          "type": "string",
                          "nullable": true,
                          "metadata": {}
                        },
                        {
                          "name": "triggerType",
                          "type": "string",
                          "nullable": true,
                          "metadata": {}
                        }
                      ]
                    },
                    "nullable": true,
                    "metadata": {}
                  },
                  {
                    "name": "notebook",
                    "type": {
                      "type": "struct",
                      "fields": [
                        {
                          "name": "notebookId",
                          "type": "string",
                          "nullable": true,
                          "metadata": {}
                        }
                      ]
                    },
                    "nullable": true,
                    "metadata": {}
                  },
                  {
                    "name": "clusterId",
                    "type": "string",
                    "nullable": true,
                    "metadata": {}
                  },
                  {
                    "name": "readVersion",
                    "type": "long",
                    "nullable": true,
                    "metadata": {}
                  },
                  {
                    "name": "isolationLevel",
                    "type": "string",
                    "nullable": true,
                    "metadata": {}
                  },
                  {
                    "name": "isBlindAppend",
                    "type": "boolean",
                    "nullable": true,
                    "metadata": {}
                  },
                  {
                    "name": "operationMetrics",
                    "type": {
                      "type": "map",
                      "keyType": "string",
                      "valueType": "string",
                      "valueContainsNull": true
                    },
                    "nullable": true,
                    "metadata": {}
                  },
                  {
                    "name": "userMetadata",
                    "type": "string",
                    "nullable": true,
                    "metadata": {}
                  },
                  {
                    "name": "engineInfo",
                    "type": "string",
                    "nullable": true,
                    "metadata": {}
                  }
                ]
              },
              "data": [
                [
                  "2",
                  "2023-07-06T14:59:26Z",
                  null,
                  null,
                  "UPDATE",
                  {
                    "predicate": "StartsWith(name#985, T)"
                  },
                  null,
                  null,
                  null,
                  "1",
                  "Serializable",
                  false,
                  {
                    "numRemovedFiles": "2",
                    "numCopiedRows": "0",
                    "numAddedChangeFiles": "1",
                    "executionTimeMs": "6106",
                    "scanTimeMs": "4021",
                    "numAddedFiles": "1",
                    "numUpdatedRows": "2",
                    "rewriteTimeMs": "2081"
                  },
                  null,
                  "Apache-Spark/3.3.1.5.2-92314920 Delta-Lake/2.2.0.4"
                ],
                [
                  "1",
                  "2023-07-06T14:59:15Z",
                  null,
                  null,
                  "WRITE",
                  {
                    "mode": "Append",
                    "partitionBy": "[]"
                  },
                  null,
                  null,
                  null,
                  "0",
                  "Serializable",
                  true,
                  {
                    "numFiles": "3",
                    "numOutputRows": "3",
                    "numOutputBytes": "4170"
                  },
                  null,
                  "Apache-Spark/3.3.1.5.2-92314920 Delta-Lake/2.2.0.4"
                ],
                [
                  "0",
                  "2023-07-06T14:59:04Z",
                  null,
                  null,
                  "CREATE TABLE",
                  {
                    "isManaged": "true",
                    "description": null,
                    "partitionBy": "[]",
                    "properties": "{\"delta.enableChangeDataFeed\":\"true\"}"
                  },
                  null,
                  null,
                  null,
                  null,
                  "Serializable",
                  true,
                  {},
                  null,
                  "Apache-Spark/3.3.1.5.2-92314920 Delta-Lake/2.2.0.4"
                ]
              ]
            },
            "text/plain": "<Spark SQL result set with 3 rows and 15 fields>"
          },
          "metadata": {}
        }
      ],
      "execution_count": 53,
      "metadata": {
        "collapsed": false
      }
    },
    {
      "cell_type": "code",
      "source": [
        "%%pyspark\r\n",
        "\r\n",
        "# Different ways to get delta changes\r\n",
        "\r\n",
        "# Between 2 delta versions (as ints or longs e.g. changes from version 1 to 2)\r\n",
        "#df = spark.read.format(\"delta\").option(\"readChangeFeed\", \"true\").option(\"startingVersion\", 1).option(\"endingVersion\", 2).table('students')\r\n",
        "\r\n",
        "# Between timestamps (as string formatted timestamps)\r\n",
        "#df = spark.read.format(\"delta\").option(\"readChangeFeed\", \"true\").option(\"startingTimestamp\", '2021-04-21 05:45:46').option(\"endingTimestamp\", '2021-05-21 12:00:00').table('students')\r\n",
        "\r\n",
        "# Providing only the starting version/timestamp\r\n",
        "df = spark.read.format(\"delta\").option(\"readChangeFeed\", \"true\").option(\"startingVersion\", 2).table('students')\r\n",
        "\r\n",
        "# With database/schema names inside the string for table name, with backticks for escaping dots and special characters\r\n",
        "# SELECT * FROM table_changes('dbName.`dotted.tableName`', '2021-04-21 06:45:46' , '2021-05-21 12:00:00')\r\n",
        "\r\n",
        "# With path based tables\r\n",
        "# SELECT * FROM table_changes_by_path('\\path', '2021-04-21 05:45:46')\r\n",
        "\r\n",
        "display(df)"
      ],
      "outputs": [
        {
          "output_type": "display_data",
          "data": {
            "application/vnd.livy.statement-meta+json": {
              "spark_pool": "smallpool3dot3",
              "session_id": "1",
              "statement_id": 13,
              "state": "finished",
              "livy_statement_state": "available",
              "queued_time": "2023-07-06T15:00:41.7005048Z",
              "session_start_time": null,
              "execution_start_time": "2023-07-06T15:00:42.0034098Z",
              "execution_finish_time": "2023-07-06T15:00:45.0040372Z",
              "spark_jobs": null,
              "parent_msg_id": "a8cbcc21-4fa0-43b8-8d9d-b704567abd64"
            },
            "text/plain": "StatementMeta(smallpool3dot3, 1, 13, Finished, Available)"
          },
          "metadata": {}
        },
        {
          "output_type": "display_data",
          "data": {
            "application/vnd.synapse.widget-view+json": {
              "widget_id": "aa603a14-ceb3-45fd-91c6-6b35696382a0",
              "widget_type": "Synapse.DataFrame"
            },
            "text/plain": "SynapseWidget(Synapse.DataFrame, aa603a14-ceb3-45fd-91c6-6b35696382a0)"
          },
          "metadata": {}
        }
      ],
      "execution_count": 54,
      "metadata": {
        "jupyter": {
          "source_hidden": false,
          "outputs_hidden": false
        },
        "nteract": {
          "transient": {
            "deleting": false
          }
        },
        "microsoft": {
          "language": "python"
        },
        "collapsed": false
      }
    },
    {
      "cell_type": "code",
      "source": [
        "%%pyspark\r\n",
        "\r\n",
        "# Create a temporary view to the delta changes\r\n",
        "\r\n",
        "df.createOrReplaceTempView('V_CHANGE_students')"
      ],
      "outputs": [
        {
          "output_type": "display_data",
          "data": {
            "application/vnd.livy.statement-meta+json": {
              "spark_pool": "smallpool3dot3",
              "session_id": "1",
              "statement_id": 14,
              "state": "finished",
              "livy_statement_state": "available",
              "queued_time": "2023-07-06T15:02:32.1471641Z",
              "session_start_time": null,
              "execution_start_time": "2023-07-06T15:02:32.3556533Z",
              "execution_finish_time": "2023-07-06T15:02:32.5343783Z",
              "spark_jobs": null,
              "parent_msg_id": "65282893-f9fb-4fee-8b31-7aec7fb51ed7"
            },
            "text/plain": "StatementMeta(smallpool3dot3, 1, 14, Finished, Available)"
          },
          "metadata": {}
        }
      ],
      "execution_count": 55,
      "metadata": {
        "jupyter": {
          "source_hidden": false,
          "outputs_hidden": false
        },
        "nteract": {
          "transient": {
            "deleting": false
          }
        },
        "microsoft": {
          "language": "python"
        }
      }
    },
    {
      "cell_type": "code",
      "source": [
        "-- This is the query we want to generate dynamically\n",
        "\n",
        "SELECT\n",
        "  s1.id,\n",
        "  CASE WHEN s1.grade <> s2.grade THEN concat(s1.grade, ' -> ', s2.grade) ELSE '' END AS grade,\n",
        "  CASE WHEN s1.year  <> s2.year  THEN concat(s1.year,  ' -> ', s2.year)  ELSE '' END AS year,\n",
        "  CASE WHEN s1.age   <> s2.age   THEN concat(s1.age,   ' -> ', s2.age)   ELSE '' END AS age,\n",
        "  now() as sysdate\n",
        "FROM V_CHANGE_students s1\n",
        "INNER JOIN V_CHANGE_students s2 ON (s2.id = s1.id)\n",
        "WHERE s1._change_type IN ('update_preimage', 'insert') AND s2._change_type = 'update_postimage' AND\n",
        "      (s1.grade <> s2.grade OR s1.year <> s2.year OR s1.age <> s2.age)"
      ],
      "outputs": [
        {
          "output_type": "display_data",
          "data": {
            "application/vnd.livy.statement-meta+json": {
              "spark_pool": "smallpool3dot3",
              "session_id": "1",
              "statement_id": 15,
              "state": "finished",
              "livy_statement_state": "available",
              "queued_time": "2023-07-06T15:02:59.2358517Z",
              "session_start_time": null,
              "execution_start_time": "2023-07-06T15:02:59.6168495Z",
              "execution_finish_time": "2023-07-06T15:03:03.6672207Z",
              "spark_jobs": null,
              "parent_msg_id": "2803b880-8df9-4b12-ae17-7c9690b92ec3"
            },
            "text/plain": "StatementMeta(smallpool3dot3, 1, 15, Finished, Available)"
          },
          "metadata": {}
        },
        {
          "output_type": "execute_result",
          "execution_count": 56,
          "data": {
            "application/vnd.synapse.sparksql-result+json": {
              "schema": {
                "type": "struct",
                "fields": [
                  {
                    "name": "id",
                    "type": "integer",
                    "nullable": true,
                    "metadata": {}
                  },
                  {
                    "name": "grade",
                    "type": "string",
                    "nullable": true,
                    "metadata": {}
                  },
                  {
                    "name": "year",
                    "type": "string",
                    "nullable": true,
                    "metadata": {}
                  },
                  {
                    "name": "age",
                    "type": "string",
                    "nullable": true,
                    "metadata": {}
                  },
                  {
                    "name": "sysdate",
                    "type": "timestamp",
                    "nullable": false,
                    "metadata": {}
                  }
                ]
              },
              "data": [
                [
                  4,
                  "4.7 -> 5.7",
                  "2020 -> 2021",
                  "",
                  "2023-07-06T15:03:00Z"
                ],
                [
                  5,
                  "5.5 -> 6.5",
                  "2021 -> 2022",
                  "",
                  "2023-07-06T15:03:00Z"
                ]
              ]
            },
            "text/plain": "<Spark SQL result set with 2 rows and 5 fields>"
          },
          "metadata": {}
        }
      ],
      "execution_count": 56,
      "metadata": {
        "collapsed": false
      }
    },
    {
      "cell_type": "code",
      "source": [
        "%%pyspark\n",
        "# Dynamically generate the SQL queries for all tables in the \"information_schema\" table\n",
        "\n",
        "import pandas as pd\n",
        "\n",
        "table_list = spark.sql('SELECT DISTINCT(table_name) AS table_name FROM information_schema').toPandas()\n",
        "if(debug): print(table_list)\n",
        "\n",
        "final = [] # list of final results\n",
        "\n",
        "for indx, tables_row in table_list.iterrows():\n",
        "    table_name = tables_row['table_name']\n",
        "    print('Processing table ' + table_name)\n",
        "\n",
        "    sql = \"SELECT column_name, is_key FROM information_schema WHERE table_name = '\" + table_name + \"' AND is_ignore = false ORDER BY column_pos\"\n",
        "    column_list = spark.sql(sql).toPandas()\n",
        "    if(debug): print(column_list)\n",
        "\n",
        "    full_sql   = 'SELECT ' # the SQL query for each table\n",
        "    key_sql    = ''        # the condition for the self join\n",
        "    pred_sql   = ''        # the comparison between all value columns\n",
        "    id_vars    = []        # list of PK's for the pivot operation\n",
        "    value_vars = []        # list of value columns for the pivot operation\n",
        "\n",
        "    for indx2, column_row in column_list.iterrows():\n",
        "        column_name = column_row['column_name']\n",
        "        is_key      = column_row['is_key']\n",
        "\n",
        "        if(is_key):\n",
        "            full_sql = full_sql + '\\ns1.' + column_name + ',\\n'\n",
        "            if(key_sql != ''): key_sql = key_sql + \" AND \"\n",
        "            key_sql = key_sql + \"s2.\" + column_name + \" = s1.\" + column_name\n",
        "            id_vars = id_vars + [column_name]\n",
        "        else:\n",
        "            full_sql = full_sql + \"CASE WHEN s1.\" + column_name + \" <> s2.\" + column_name + \" THEN \" \\\n",
        "                                \"concat(s1.\" + column_name + \", ' -> ', s2. \" + column_name + \") \" \\\n",
        "                                \"ELSE '' END AS \" + column_name + \",\\n\"\n",
        "            pred_sql = pred_sql + (\"(\" if pred_sql == '' else \" OR \")\n",
        "            pred_sql = pred_sql + \"s1.\" + column_name + \" <> s2.\" + column_name\n",
        "            value_vars = value_vars + [column_name]\n",
        "\n",
        "    full_sql = full_sql + \"now() as sysdate\\n\" + \\\n",
        "                        \"FROM V_CHANGE_\" + table_name + \" s1\\n\" + \\\n",
        "                        \"INNER JOIN V_CHANGE_\" + table_name + \" s2 ON (\" + key_sql + \")\\n\" + \\\n",
        "                        \"WHERE s1._change_type IN ('update_preimage', 'insert') AND s2._change_type = 'update_postimage' AND\\n\" + \\\n",
        "                        pred_sql + \")\"\n",
        "    \n",
        "    if(debug): print('SQL:\\n' + full_sql)\n",
        "\n",
        "    final.append([table_name, full_sql, id_vars, value_vars])\n",
        "\n",
        "    if(debug): print('id_vars:', id_vars)\n",
        "    if(debug): print('value_vars:', value_vars)\n",
        "\n",
        "if(debug): print('final:', final)\n"
      ],
      "outputs": [
        {
          "output_type": "display_data",
          "data": {
            "application/vnd.livy.statement-meta+json": {
              "spark_pool": "smallpool3dot3",
              "session_id": "1",
              "statement_id": 21,
              "state": "finished",
              "livy_statement_state": "available",
              "queued_time": "2023-07-06T15:13:32.3610199Z",
              "session_start_time": null,
              "execution_start_time": "2023-07-06T15:13:32.5868433Z",
              "execution_finish_time": "2023-07-06T15:13:35.5546113Z",
              "spark_jobs": null,
              "parent_msg_id": "3bca75c6-0914-4dcf-b0e1-512d420988c2"
            },
            "text/plain": "StatementMeta(smallpool3dot3, 1, 21, Finished, Available)"
          },
          "metadata": {}
        },
        {
          "output_type": "stream",
          "name": "stdout",
          "text": [
            "  table_name\n0   students\nProcessing table students\n  column_name  is_key\n0          id    True\n1       grade   False\n2        year   False\n3         age   False\nSQL:\nSELECT \ns1.id,\nCASE WHEN s1.grade <> s2.grade THEN concat(s1.grade, ' -> ', s2. grade) ELSE '' END AS grade,\nCASE WHEN s1.year <> s2.year THEN concat(s1.year, ' -> ', s2. year) ELSE '' END AS year,\nCASE WHEN s1.age <> s2.age THEN concat(s1.age, ' -> ', s2. age) ELSE '' END AS age,\nnow() as sysdate\nFROM V_CHANGE_students s1\nINNER JOIN V_CHANGE_students s2 ON (s2.id = s1.id)\nWHERE s1._change_type IN ('update_preimage', 'insert') AND s2._change_type = 'update_postimage' AND\n(s1.grade <> s2.grade OR s1.year <> s2.year OR s1.age <> s2.age)\nid_vars: ['id']\nvalue_vars: ['grade', 'year', 'age']\nfinal: [['students', \"SELECT \\ns1.id,\\nCASE WHEN s1.grade <> s2.grade THEN concat(s1.grade, ' -> ', s2. grade) ELSE '' END AS grade,\\nCASE WHEN s1.year <> s2.year THEN concat(s1.year, ' -> ', s2. year) ELSE '' END AS year,\\nCASE WHEN s1.age <> s2.age THEN concat(s1.age, ' -> ', s2. age) ELSE '' END AS age,\\nnow() as sysdate\\nFROM V_CHANGE_students s1\\nINNER JOIN V_CHANGE_students s2 ON (s2.id = s1.id)\\nWHERE s1._change_type IN ('update_preimage', 'insert') AND s2._change_type = 'update_postimage' AND\\n(s1.grade <> s2.grade OR s1.year <> s2.year OR s1.age <> s2.age)\", ['id'], ['grade', 'year', 'age']]]\n"
          ]
        }
      ],
      "execution_count": 62,
      "metadata": {
        "microsoft": {
          "language": "python"
        },
        "collapsed": false
      }
    },
    {
      "cell_type": "code",
      "source": [
        "SELECT \n",
        "s1.id,\n",
        "CASE WHEN s1.grade <> s2.grade THEN concat(s1.grade, ' -> ', s2. grade) ELSE '' END AS grade,\n",
        "CASE WHEN s1.year <> s2.year THEN concat(s1.year, ' -> ', s2. year) ELSE '' END AS year,\n",
        "CASE WHEN s1.age <> s2.age THEN concat(s1.age, ' -> ', s2. age) ELSE '' END AS age,\n",
        "now() as sysdate\n",
        "FROM V_CHANGE_students s1\n",
        "INNER JOIN V_CHANGE_students s2 ON (s2.id = s1.id)\n",
        "WHERE s1._change_type IN ('update_preimage', 'insert') AND s2._change_type = 'update_postimage' AND\n",
        "(s1.grade <> s2.grade OR s1.year <> s2.year OR s1.age <> s2.age)"
      ],
      "outputs": [
        {
          "output_type": "display_data",
          "data": {
            "application/vnd.livy.statement-meta+json": {
              "spark_pool": "smallpool3dot3",
              "session_id": "1",
              "statement_id": 23,
              "state": "finished",
              "livy_statement_state": "available",
              "queued_time": "2023-07-06T15:14:33.5026086Z",
              "session_start_time": null,
              "execution_start_time": "2023-07-06T15:14:33.6999677Z",
              "execution_finish_time": "2023-07-06T15:14:36.6268315Z",
              "spark_jobs": null,
              "parent_msg_id": "80f91fbd-8bee-4216-b5e1-8e49b6bda1c8"
            },
            "text/plain": "StatementMeta(smallpool3dot3, 1, 23, Finished, Available)"
          },
          "metadata": {}
        },
        {
          "output_type": "execute_result",
          "execution_count": 64,
          "data": {
            "application/vnd.synapse.sparksql-result+json": {
              "schema": {
                "type": "struct",
                "fields": [
                  {
                    "name": "id",
                    "type": "integer",
                    "nullable": true,
                    "metadata": {}
                  },
                  {
                    "name": "grade",
                    "type": "string",
                    "nullable": true,
                    "metadata": {}
                  },
                  {
                    "name": "year",
                    "type": "string",
                    "nullable": true,
                    "metadata": {}
                  },
                  {
                    "name": "age",
                    "type": "string",
                    "nullable": true,
                    "metadata": {}
                  },
                  {
                    "name": "sysdate",
                    "type": "timestamp",
                    "nullable": false,
                    "metadata": {}
                  }
                ]
              },
              "data": [
                [
                  4,
                  "4.7 -> 5.7",
                  "2020 -> 2021",
                  "",
                  "2023-07-06T15:14:34Z"
                ],
                [
                  5,
                  "5.5 -> 6.5",
                  "2021 -> 2022",
                  "",
                  "2023-07-06T15:14:34Z"
                ]
              ]
            },
            "text/plain": "<Spark SQL result set with 2 rows and 5 fields>"
          },
          "metadata": {}
        }
      ],
      "execution_count": 64,
      "metadata": {
        "collapsed": false
      }
    },
    {
      "cell_type": "code",
      "source": [
        "%%pyspark\n",
        "\n",
        "# Get results for one table, melt (unpivot), clean\n",
        "\n",
        "table_name, full_sql, id_vars, value_vars = final[0][0], final[0][1], final[0][2], final[0][3]\n",
        "if(debug): print('table_name:', table_name)\n",
        "if(debug): print('full_sql:',   full_sql)\n",
        "if(debug): print('id_vars:',    id_vars)\n",
        "if(debug): print('value_vars:', value_vars)\n",
        "\n",
        "# execute SQL quesry\n",
        "df = spark.sql(full_sql).toPandas()\n",
        "display(df)\n",
        "\n",
        "# melt the dataset\n",
        "df_melted = df.melt(id_vars, value_vars).sort_values(by=id_vars + ['variable'])\n",
        "display(df_melted)\n",
        "\n",
        "# clean the dataset\n",
        "df_melted_clean = df_melted[df_melted['value'] != '']\n",
        "display(df_melted_clean)\n"
      ],
      "outputs": [
        {
          "output_type": "display_data",
          "data": {
            "application/vnd.livy.statement-meta+json": {
              "spark_pool": "smallpool3dot3",
              "session_id": "1",
              "statement_id": 29,
              "state": "finished",
              "livy_statement_state": "available",
              "queued_time": "2023-07-06T15:19:36.8670448Z",
              "session_start_time": null,
              "execution_start_time": "2023-07-06T15:19:37.037641Z",
              "execution_finish_time": "2023-07-06T15:19:39.9564429Z",
              "spark_jobs": null,
              "parent_msg_id": "d9c6b8d7-4987-4e90-b59b-32c3a4203fb1"
            },
            "text/plain": "StatementMeta(smallpool3dot3, 1, 29, Finished, Available)"
          },
          "metadata": {}
        },
        {
          "output_type": "stream",
          "name": "stdout",
          "text": [
            "table_name: students\nfull_sql: SELECT \ns1.id,\nCASE WHEN s1.grade <> s2.grade THEN concat(s1.grade, ' -> ', s2. grade) ELSE '' END AS grade,\nCASE WHEN s1.year <> s2.year THEN concat(s1.year, ' -> ', s2. year) ELSE '' END AS year,\nCASE WHEN s1.age <> s2.age THEN concat(s1.age, ' -> ', s2. age) ELSE '' END AS age,\nnow() as sysdate\nFROM V_CHANGE_students s1\nINNER JOIN V_CHANGE_students s2 ON (s2.id = s1.id)\nWHERE s1._change_type IN ('update_preimage', 'insert') AND s2._change_type = 'update_postimage' AND\n(s1.grade <> s2.grade OR s1.year <> s2.year OR s1.age <> s2.age)\nid_vars: ['id']\nvalue_vars: ['grade', 'year', 'age']\n"
          ]
        },
        {
          "output_type": "stream",
          "name": "stderr",
          "text": [
            "/opt/spark/python/lib/pyspark.zip/pyspark/sql/pandas/conversion.py:604: FutureWarning: iteritems is deprecated and will be removed in a future version. Use .items instead.\n  [(c, t) for (_, c), t in zip(pdf_slice.iteritems(), arrow_types)]\n"
          ]
        },
        {
          "output_type": "display_data",
          "data": {
            "application/vnd.synapse.widget-view+json": {
              "widget_id": "d28cb1da-c115-4e44-97d4-2d78cfb1057b",
              "widget_type": "Synapse.DataFrame"
            },
            "text/plain": "SynapseWidget(Synapse.DataFrame, d28cb1da-c115-4e44-97d4-2d78cfb1057b)"
          },
          "metadata": {}
        },
        {
          "output_type": "stream",
          "name": "stderr",
          "text": [
            "/opt/spark/python/lib/pyspark.zip/pyspark/sql/pandas/conversion.py:604: FutureWarning: iteritems is deprecated and will be removed in a future version. Use .items instead.\n  [(c, t) for (_, c), t in zip(pdf_slice.iteritems(), arrow_types)]\n"
          ]
        },
        {
          "output_type": "display_data",
          "data": {
            "application/vnd.synapse.widget-view+json": {
              "widget_id": "a3a9e541-cbc3-49dd-8856-22d11825276c",
              "widget_type": "Synapse.DataFrame"
            },
            "text/plain": "SynapseWidget(Synapse.DataFrame, a3a9e541-cbc3-49dd-8856-22d11825276c)"
          },
          "metadata": {}
        },
        {
          "output_type": "display_data",
          "data": {
            "application/vnd.synapse.widget-view+json": {
              "widget_id": "04410818-9eaf-43c7-a066-baae744973b4",
              "widget_type": "Synapse.DataFrame"
            },
            "text/plain": "SynapseWidget(Synapse.DataFrame, 04410818-9eaf-43c7-a066-baae744973b4)"
          },
          "metadata": {}
        }
      ],
      "execution_count": 70,
      "metadata": {
        "microsoft": {
          "language": "python"
        },
        "collapsed": false
      }
    },
    {
      "cell_type": "markdown",
      "source": [
        "If we want to select the changes between 2 versions (or timestamps), then we may have several changes applied to the same PK.\n",
        "This means we need to extract only the oldest and newest record for each PK"
      ],
      "metadata": {}
    },
    {
      "cell_type": "code",
      "source": [
        "%%pyspark\n",
        "\n",
        "# Select changes between 2 versions\n",
        "\n",
        "df = spark.read.format(\"delta\").option(\"readChangeFeed\", \"true\").option(\"startingVersion\", 1).option(\"endingVersion\", 2).table('students').orderBy(\"ID\", \"_commit_version\")\n",
        "\n",
        "df.createOrReplaceTempView('v_all_changes_students')\n",
        "\n",
        "display(df)"
      ],
      "outputs": [
        {
          "output_type": "display_data",
          "data": {
            "application/vnd.livy.statement-meta+json": {
              "spark_pool": "smallpool3dot3",
              "session_id": "1",
              "statement_id": 37,
              "state": "finished",
              "livy_statement_state": "available",
              "queued_time": "2023-07-06T15:31:33.8800139Z",
              "session_start_time": null,
              "execution_start_time": "2023-07-06T15:31:34.0449724Z",
              "execution_finish_time": "2023-07-06T15:31:38.1437707Z",
              "spark_jobs": null,
              "parent_msg_id": "78ec9986-6f01-44a6-a120-cc47090ebb19"
            },
            "text/plain": "StatementMeta(smallpool3dot3, 1, 37, Finished, Available)"
          },
          "metadata": {}
        },
        {
          "output_type": "display_data",
          "data": {
            "application/vnd.synapse.widget-view+json": {
              "widget_id": "c9b6bce0-8923-46cb-8c06-c9f2eddfde26",
              "widget_type": "Synapse.DataFrame"
            },
            "text/plain": "SynapseWidget(Synapse.DataFrame, c9b6bce0-8923-46cb-8c06-c9f2eddfde26)"
          },
          "metadata": {}
        }
      ],
      "execution_count": 78,
      "metadata": {
        "microsoft": {
          "language": "python"
        },
        "collapsed": false
      }
    },
    {
      "cell_type": "code",
      "source": [
        "-- Create a temporaty view for a result that holds multiple changes for each PK into a table with 1-2 records per PK (oldest and newest)\n",
        "\n",
        "-- We can recreate the same view as before as it has the same structure\n",
        "-- This view can also be generated dynamically\n",
        "CREATE OR REPLACE TEMP VIEW V_CHANGE_students AS\n",
        "SELECT * FROM v_all_changes_students s1\n",
        "WHERE (\n",
        "  s1._commit_timestamp = (SELECT MAX(s2._commit_timestamp) FROM v_all_changes_students s2 WHERE s2.id = s1.id AND s2._change_type = s2._change_type)\n",
        "  AND s1._change_type IN ('update_postimage', 'insert')\n",
        ") OR (\n",
        "s1._commit_timestamp = (SELECT MIN(s2._commit_timestamp) FROM v_all_changes_students s2 WHERE s2.id = s1.id AND s2._change_type = s2._change_type)\n",
        "AND s1._change_type IN ('update_preimage', 'insert')\n",
        ")\n",
        "ORDER BY id, _commit_timestamp DESC;\n",
        "\n",
        "SELECT * FROM V_CHANGE_students ORDER BY ID, _commit_version\n",
        "\n",
        "-- We can now use this view as an input to the generation of changes, as before"
      ],
      "outputs": [
        {
          "output_type": "display_data",
          "data": {
            "application/vnd.livy.statement-meta+json": {
              "spark_pool": null,
              "session_id": "1",
              "statement_id": -1,
              "state": "finished",
              "livy_statement_state": "available",
              "queued_time": "2023-07-06T15:33:34.6039811Z",
              "session_start_time": null,
              "execution_start_time": "2023-07-06T15:33:46.4166091Z",
              "execution_finish_time": "2023-07-06T15:33:46.4168456Z",
              "spark_jobs": null,
              "parent_msg_id": "c06c62b7-b314-4883-b9a6-5c9085f7f10f"
            },
            "text/plain": "StatementMeta(, 1, -1, Finished, Available)"
          },
          "metadata": {}
        },
        {
          "output_type": "execute_result",
          "execution_count": 81,
          "data": {
            "application/vnd.synapse.sparksql-result+json": {
              "schema": {
                "type": "struct",
                "fields": []
              },
              "data": []
            },
            "text/plain": "<Spark SQL result set with 0 rows and 0 fields>"
          },
          "metadata": {}
        },
        {
          "output_type": "execute_result",
          "execution_count": 81,
          "data": {
            "application/vnd.synapse.sparksql-result+json": {
              "schema": {
                "type": "struct",
                "fields": [
                  {
                    "name": "id",
                    "type": "integer",
                    "nullable": true,
                    "metadata": {}
                  },
                  {
                    "name": "name",
                    "type": "string",
                    "nullable": true,
                    "metadata": {}
                  },
                  {
                    "name": "grade",
                    "type": "double",
                    "nullable": true,
                    "metadata": {}
                  },
                  {
                    "name": "year",
                    "type": "integer",
                    "nullable": true,
                    "metadata": {}
                  },
                  {
                    "name": "age",
                    "type": "integer",
                    "nullable": true,
                    "metadata": {}
                  },
                  {
                    "name": "_change_type",
                    "type": "string",
                    "nullable": true,
                    "metadata": {}
                  },
                  {
                    "name": "_commit_version",
                    "type": "long",
                    "nullable": true,
                    "metadata": {}
                  },
                  {
                    "name": "_commit_timestamp",
                    "type": "timestamp",
                    "nullable": true,
                    "metadata": {}
                  }
                ]
              },
              "data": [
                [
                  4,
                  "Ted",
                  4.7,
                  2020,
                  20,
                  "insert",
                  "1",
                  "2023-07-06T14:59:15Z"
                ],
                [
                  4,
                  "Ted",
                  5.7,
                  2021,
                  20,
                  "update_postimage",
                  "2",
                  "2023-07-06T14:59:26Z"
                ],
                [
                  5,
                  "Tiffany",
                  5.5,
                  2021,
                  21,
                  "insert",
                  "1",
                  "2023-07-06T14:59:15Z"
                ],
                [
                  5,
                  "Tiffany",
                  6.5,
                  2022,
                  21,
                  "update_postimage",
                  "2",
                  "2023-07-06T14:59:26Z"
                ],
                [
                  6,
                  "Vini",
                  6.3,
                  2022,
                  22,
                  "insert",
                  "1",
                  "2023-07-06T14:59:15Z"
                ]
              ]
            },
            "text/plain": "<Spark SQL result set with 5 rows and 8 fields>"
          },
          "metadata": {}
        }
      ],
      "execution_count": 81,
      "metadata": {
        "collapsed": false
      }
    }
  ],
  "metadata": {
    "language_info": {
      "name": "sql"
    },
    "kernelspec": {
      "name": "synapse_pyspark",
      "language": "Python",
      "display_name": "Synapse PySpark"
    },
    "kernel_info": {
      "name": "synapse_pyspark"
    },
    "save_output": true,
    "synapse_widget": {
      "version": "0.1",
      "state": {
        "aa603a14-ceb3-45fd-91c6-6b35696382a0": {
          "type": "Synapse.DataFrame",
          "sync_state": {
            "table": {
              "rows": [
                {
                  "0": "4",
                  "1": "Ted",
                  "2": "4.7",
                  "3": "2020",
                  "4": "20",
                  "5": "update_preimage",
                  "6": "2",
                  "7": "2023-07-06 14:59:26.003"
                },
                {
                  "0": "4",
                  "1": "Ted",
                  "2": "5.7",
                  "3": "2021",
                  "4": "20",
                  "5": "update_postimage",
                  "6": "2",
                  "7": "2023-07-06 14:59:26.003"
                },
                {
                  "0": "5",
                  "1": "Tiffany",
                  "2": "5.5",
                  "3": "2021",
                  "4": "21",
                  "5": "update_preimage",
                  "6": "2",
                  "7": "2023-07-06 14:59:26.003"
                },
                {
                  "0": "5",
                  "1": "Tiffany",
                  "2": "6.5",
                  "3": "2022",
                  "4": "21",
                  "5": "update_postimage",
                  "6": "2",
                  "7": "2023-07-06 14:59:26.003"
                }
              ],
              "schema": [
                {
                  "key": "0",
                  "name": "id",
                  "type": "int"
                },
                {
                  "key": "1",
                  "name": "name",
                  "type": "string"
                },
                {
                  "key": "2",
                  "name": "grade",
                  "type": "double"
                },
                {
                  "key": "3",
                  "name": "year",
                  "type": "int"
                },
                {
                  "key": "4",
                  "name": "age",
                  "type": "int"
                },
                {
                  "key": "5",
                  "name": "_change_type",
                  "type": "string"
                },
                {
                  "key": "6",
                  "name": "_commit_version",
                  "type": "bigint"
                },
                {
                  "key": "7",
                  "name": "_commit_timestamp",
                  "type": "timestamp"
                }
              ],
              "truncated": false
            },
            "isSummary": false,
            "language": "scala"
          },
          "persist_state": {
            "view": {
              "type": "details",
              "tableOptions": {},
              "chartOptions": {
                "chartType": "bar",
                "aggregationType": "sum",
                "categoryFieldKeys": [
                  "1"
                ],
                "seriesFieldKeys": [
                  "0"
                ],
                "isStacked": false
              }
            }
          }
        },
        "d28cb1da-c115-4e44-97d4-2d78cfb1057b": {
          "type": "Synapse.DataFrame",
          "sync_state": {
            "table": {
              "rows": [
                {
                  "0": "4",
                  "1": "4.7 -> 5.7",
                  "2": "2020 -> 2021",
                  "3": "",
                  "4": "2023-07-06 15:19:37.099"
                },
                {
                  "0": "5",
                  "1": "5.5 -> 6.5",
                  "2": "2021 -> 2022",
                  "3": "",
                  "4": "2023-07-06 15:19:37.099"
                }
              ],
              "schema": [
                {
                  "key": "0",
                  "name": "id",
                  "type": "int"
                },
                {
                  "key": "1",
                  "name": "grade",
                  "type": "string"
                },
                {
                  "key": "2",
                  "name": "year",
                  "type": "string"
                },
                {
                  "key": "3",
                  "name": "age",
                  "type": "string"
                },
                {
                  "key": "4",
                  "name": "sysdate",
                  "type": "timestamp"
                }
              ],
              "truncated": false
            },
            "isSummary": false,
            "language": "scala"
          },
          "persist_state": {
            "view": {
              "type": "details",
              "tableOptions": {},
              "chartOptions": {
                "chartType": "bar",
                "aggregationType": "sum",
                "categoryFieldKeys": [
                  "1"
                ],
                "seriesFieldKeys": [
                  "0"
                ],
                "isStacked": false
              }
            }
          }
        },
        "a3a9e541-cbc3-49dd-8856-22d11825276c": {
          "type": "Synapse.DataFrame",
          "sync_state": {
            "table": {
              "rows": [
                {
                  "0": "4",
                  "1": "age",
                  "2": ""
                },
                {
                  "0": "4",
                  "1": "grade",
                  "2": "4.7 -> 5.7"
                },
                {
                  "0": "4",
                  "1": "year",
                  "2": "2020 -> 2021"
                },
                {
                  "0": "5",
                  "1": "age",
                  "2": ""
                },
                {
                  "0": "5",
                  "1": "grade",
                  "2": "5.5 -> 6.5"
                },
                {
                  "0": "5",
                  "1": "year",
                  "2": "2021 -> 2022"
                }
              ],
              "schema": [
                {
                  "key": "0",
                  "name": "id",
                  "type": "int"
                },
                {
                  "key": "1",
                  "name": "variable",
                  "type": "string"
                },
                {
                  "key": "2",
                  "name": "value",
                  "type": "string"
                }
              ],
              "truncated": false
            },
            "isSummary": false,
            "language": "scala"
          },
          "persist_state": {
            "view": {
              "type": "details",
              "tableOptions": {},
              "chartOptions": {
                "chartType": "bar",
                "aggregationType": "sum",
                "categoryFieldKeys": [
                  "1"
                ],
                "seriesFieldKeys": [
                  "0"
                ],
                "isStacked": false
              }
            }
          }
        },
        "04410818-9eaf-43c7-a066-baae744973b4": {
          "type": "Synapse.DataFrame",
          "sync_state": {
            "table": {
              "rows": [
                {
                  "0": "4",
                  "1": "grade",
                  "2": "4.7 -> 5.7"
                },
                {
                  "0": "4",
                  "1": "year",
                  "2": "2020 -> 2021"
                },
                {
                  "0": "5",
                  "1": "grade",
                  "2": "5.5 -> 6.5"
                },
                {
                  "0": "5",
                  "1": "year",
                  "2": "2021 -> 2022"
                }
              ],
              "schema": [
                {
                  "key": "0",
                  "name": "id",
                  "type": "int"
                },
                {
                  "key": "1",
                  "name": "variable",
                  "type": "string"
                },
                {
                  "key": "2",
                  "name": "value",
                  "type": "string"
                }
              ],
              "truncated": false
            },
            "isSummary": false,
            "language": "scala"
          },
          "persist_state": {
            "view": {
              "type": "details",
              "tableOptions": {},
              "chartOptions": {
                "chartType": "bar",
                "aggregationType": "sum",
                "categoryFieldKeys": [
                  "1"
                ],
                "seriesFieldKeys": [
                  "0"
                ],
                "isStacked": false
              }
            }
          }
        },
        "c9b6bce0-8923-46cb-8c06-c9f2eddfde26": {
          "type": "Synapse.DataFrame",
          "sync_state": {
            "table": {
              "rows": [
                {
                  "0": "4",
                  "1": "Ted",
                  "2": "4.7",
                  "3": "2020",
                  "4": "20",
                  "5": "insert",
                  "6": "1",
                  "7": "2023-07-06 14:59:15.102"
                },
                {
                  "0": "4",
                  "1": "Ted",
                  "2": "5.7",
                  "3": "2021",
                  "4": "20",
                  "5": "update_postimage",
                  "6": "2",
                  "7": "2023-07-06 14:59:26.003"
                },
                {
                  "0": "4",
                  "1": "Ted",
                  "2": "4.7",
                  "3": "2020",
                  "4": "20",
                  "5": "update_preimage",
                  "6": "2",
                  "7": "2023-07-06 14:59:26.003"
                },
                {
                  "0": "5",
                  "1": "Tiffany",
                  "2": "5.5",
                  "3": "2021",
                  "4": "21",
                  "5": "insert",
                  "6": "1",
                  "7": "2023-07-06 14:59:15.102"
                },
                {
                  "0": "5",
                  "1": "Tiffany",
                  "2": "6.5",
                  "3": "2022",
                  "4": "21",
                  "5": "update_postimage",
                  "6": "2",
                  "7": "2023-07-06 14:59:26.003"
                },
                {
                  "0": "5",
                  "1": "Tiffany",
                  "2": "5.5",
                  "3": "2021",
                  "4": "21",
                  "5": "update_preimage",
                  "6": "2",
                  "7": "2023-07-06 14:59:26.003"
                },
                {
                  "0": "6",
                  "1": "Vini",
                  "2": "6.3",
                  "3": "2022",
                  "4": "22",
                  "5": "insert",
                  "6": "1",
                  "7": "2023-07-06 14:59:15.102"
                }
              ],
              "schema": [
                {
                  "key": "0",
                  "name": "id",
                  "type": "int"
                },
                {
                  "key": "1",
                  "name": "name",
                  "type": "string"
                },
                {
                  "key": "2",
                  "name": "grade",
                  "type": "double"
                },
                {
                  "key": "3",
                  "name": "year",
                  "type": "int"
                },
                {
                  "key": "4",
                  "name": "age",
                  "type": "int"
                },
                {
                  "key": "5",
                  "name": "_change_type",
                  "type": "string"
                },
                {
                  "key": "6",
                  "name": "_commit_version",
                  "type": "bigint"
                },
                {
                  "key": "7",
                  "name": "_commit_timestamp",
                  "type": "timestamp"
                }
              ],
              "truncated": false
            },
            "isSummary": false,
            "language": "scala"
          },
          "persist_state": {
            "view": {
              "type": "details",
              "tableOptions": {},
              "chartOptions": {
                "chartType": "bar",
                "aggregationType": "sum",
                "categoryFieldKeys": [
                  "1"
                ],
                "seriesFieldKeys": [
                  "0"
                ],
                "isStacked": false
              }
            }
          }
        }
      }
    }
  },
  "nbformat": 4,
  "nbformat_minor": 2
}